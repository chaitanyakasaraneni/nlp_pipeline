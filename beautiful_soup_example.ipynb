{
 "cells": [
  {
   "cell_type": "markdown",
   "metadata": {},
   "source": [
    "# Example showing usage of BeautifulSoup to extract/crawl data from a website\n",
    "\n",
    "BeautifulSoup is a Python package for parsing HTML and XML documents. It creates a parse tree for parsed pages that can be used to extract data from HTML, which is useful for web scraping"
   ]
  },
  {
   "cell_type": "code",
   "execution_count": 1,
   "metadata": {
    "colab": {},
    "colab_type": "code",
    "id": "Xn7UWaD2Lo1_"
   },
   "outputs": [],
   "source": [
    "# import statements\n",
    "import requests\n",
    "from bs4 import BeautifulSoup\n",
    "import pandas as pd"
   ]
  },
  {
   "cell_type": "markdown",
   "metadata": {},
   "source": [
    "Feth the web page using requests library"
   ]
  },
  {
   "cell_type": "code",
   "execution_count": 2,
   "metadata": {
    "colab": {},
    "colab_type": "code",
    "id": "0SfMtibnLo2B"
   },
   "outputs": [],
   "source": [
    "# fetch web page\n",
    "r = requests.get(\"https://www.realtor.com/realestateagents/san-jose_ca\").content"
   ]
  },
  {
   "cell_type": "code",
   "execution_count": 3,
   "metadata": {
    "colab": {},
    "colab_type": "code",
    "id": "lvnUjtlRLo2L",
    "scrolled": true
   },
   "outputs": [],
   "source": [
    "# Parse HTML Tags using BeautifulSoup\n",
    "soup = BeautifulSoup(r, \"lxml\")"
   ]
  },
  {
   "cell_type": "code",
   "execution_count": 4,
   "metadata": {
    "colab": {
     "base_uri": "https://localhost:8080/",
     "height": 34
    },
    "colab_type": "code",
    "id": "OuXx9mZyLo2Q",
    "outputId": "69aa7852-8fcc-49d6-c52d-6c77d89f0487"
   },
   "outputs": [
    {
     "name": "stdout",
     "output_type": "stream",
     "text": [
      "Number of Agents: 20\n"
     ]
    }
   ],
   "source": [
    "# Find Agent Details\n",
    "agents = soup.find_all(\"div\", {\"class\":\"agent-list-card clearfix\"})\n",
    "print('Number of Agents:', len(agents))"
   ]
  },
  {
   "cell_type": "markdown",
   "metadata": {},
   "source": [
    "Print details of the first agent. Now observe the output, this is used to identify tags to fetch data from"
   ]
  },
  {
   "cell_type": "code",
   "execution_count": 5,
   "metadata": {
    "colab": {
     "base_uri": "https://localhost:8080/",
     "height": 1000
    },
    "colab_type": "code",
    "id": "mfD_R8RZLo2T",
    "outputId": "8cdcaf8c-2891-473e-e21b-d9d16bddd1f4"
   },
   "outputs": [
    {
     "name": "stdout",
     "output_type": "stream",
     "text": [
      "<div class=\"agent-list-card clearfix\" data-linkname=\"realtors:srp_list:agent_list_card:whole_card\" data-url=\"/realestateagents/gagan-singh_pleasanton_ca_2049387_112984048\" onclick=\"myFunction()\">\n",
      " <div class=\"agent-list-card-img-wrapper col-lg-2 col-sm-3 col-xxs-4\">\n",
      "  <a href=\"/realestateagents/gagan-singh_pleasanton_ca_2049387_112984048\">\n",
      "   <div class=\"agent-list-card-img\">\n",
      "    <img alt=\"Gagan Singh\" class=\"lazy\" data-original=\"https://ap.rdcpix.com/1028087148/02dd2af750889f4adf03bc448bab0321a-e0od-r7_w110.jpg\" src=\"//static-far.rdc.moveaws.com/assets/Empty_AgentPhoto-076002f5c5b4a35ccaab1efd3d71b3565ddf293c040a602f2267d45b8e438849.svg\"/>\n",
      "   </div>\n",
      "  </a>\n",
      " </div>\n",
      " <div class=\"agent-list-card-title col-lg-3 col-sm-4 col-xxs-12 clearfix\" itemscope=\"\" itemtype=\"//schema.org/RealEstateAgent\">\n",
      "  <div class=\"agent-list-card-title-text clearfix\">\n",
      "   <link content=\"https://ap.rdcpix.com/1028087148/02dd2af750889f4adf03bc448bab0321a-e0od-r7_w110.jpg\" itemprop=\"image\"/>\n",
      "   <meta content=\"San Ramon, Dublin, Danville, Fremont, Newark, Union City, Antioch, Livermore, Hayward, San Jose, Santa Rosa, Concord, Tracy, Pittsburg, Martinez\" itemprop=\"areaServed\"/>\n",
      "   <meta content=\"National Association of Realtors\" itemprop=\"memberOf\"/>\n",
      "   <meta content=\"\" itemprop=\"member\"/>\n",
      "   <span itemprop=\"address\" itemscope=\"\" itemtype=\"//schema.org/PostalAddress\">\n",
      "    <meta content=\"900 Main St\" itemprop=\"streetAddress\"/>\n",
      "    <meta content=\"Pleasanton\" itemprop=\"addressLocality\"/>\n",
      "    <meta content=\"CA\" itemprop=\"addressRegion\"/>\n",
      "    <meta content=\"94566\" itemprop=\"postalCode\"/>\n",
      "   </span>\n",
      "   <div class=\"agent-name text-bold\" itemprop=\"name\">\n",
      "    <a href=\"/realestateagents/gagan-singh_pleasanton_ca_2049387_112984048\">\n",
      "     Gagan Singh\n",
      "    </a>\n",
      "   </div>\n",
      "   <div class=\"hori-divider\">\n",
      "   </div>\n",
      "   <div class=\"agent-group text-semibold ellipsis\" itemprop=\"subOrganization\" itemscope=\"\" itemtype=\"//schema.org/Organization\">\n",
      "    <span itemprop=\"name\">\n",
      "     Compass\n",
      "    </span>\n",
      "   </div>\n",
      "   <div class=\"agent-phone hidden-xs hidden-xxs\" itemprop=\"telephone\">\n",
      "    (925) 212-3478\n",
      "   </div>\n",
      "   <div class=\"hori-divider\">\n",
      "   </div>\n",
      "   <span itemscope=\"\" itemtype=\"//schema.org/LocalBusiness\">\n",
      "    <link content=\"https://ap.rdcpix.com/1028087148/02dd2af750889f4adf03bc448bab0321a-e0od-r7_w110.jpg\" itemprop=\"image\"/>\n",
      "    <meta content=\"Compass\" itemprop=\"name\"/>\n",
      "    <meta content=\"(925) 212-3478\" itemprop=\"telephone\"/>\n",
      "    <span itemprop=\"address\" itemscope=\"\" itemtype=\"//schema.org/PostalAddress\">\n",
      "     <meta content=\"900 Main St\" itemprop=\"streetAddress\"/>\n",
      "     <meta content=\"Pleasanton\" itemprop=\"addressLocality\"/>\n",
      "     <meta content=\"CA\" itemprop=\"addressRegion\"/>\n",
      "     <meta content=\"94566\" itemprop=\"postalCode\"/>\n",
      "    </span>\n",
      "   </span>\n",
      "   <div class=\"agent-recommendation ellipsis\">\n",
      "    <a href=\"/realestateagents/gagan-singh_pleasanton_ca_2049387_112984048#recommendation-section\">\n",
      "     <strong>\n",
      "      69\n",
      "     </strong>\n",
      "     Recommendations\n",
      "    </a>\n",
      "   </div>\n",
      "  </div>\n",
      " </div>\n",
      " <div class=\"agent-list-card-detail col-lg-6 col-sm-4 col-xxs-12\">\n",
      "  <div class=\"first-column col-lg-6 no-padding\">\n",
      "   <div class=\"agent-detail-item ellipsis\">\n",
      "    For Sale:\n",
      "    <a href=\"/realestateagents/gagan-singh_pleasanton_ca_2049387_112984048#timeline_activity_section\">\n",
      "     <strong>\n",
      "      7\n",
      "     </strong>\n",
      "    </a>\n",
      "    <!-- (<a href=\"\"><strong></strong></a> ) -->\n",
      "   </div>\n",
      "   <div class=\"agent-detail-item ellipsis\">\n",
      "    Sold:\n",
      "    <a href=\"/realestateagents/gagan-singh_pleasanton_ca_2049387_112984048#timeline_activity_section\">\n",
      "     <strong>\n",
      "      94\n",
      "     </strong>\n",
      "    </a>\n",
      "    <!-- (<a href=\"\"><strong></strong></a> ) -->\n",
      "   </div>\n",
      "   <div class=\"agent-detail-item ellipsis hidden-xs hidden-xxs\">\n",
      "    Experience:\n",
      "    <strong>\n",
      "     28 years 11 months\n",
      "    </strong>\n",
      "   </div>\n",
      "  </div>\n",
      "  <!--end first column-->\n",
      "  <div class=\"second-column col-lg-6 no-padding\">\n",
      "   <div class=\"agent-detail-item ellipsis\">\n",
      "    Listed a house:\n",
      "    <strong>\n",
      "     2020-06-26\n",
      "    </strong>\n",
      "   </div>\n",
      "   <div class=\"agent-detail-item ellipsis hidden-xs hidden-xxs\">\n",
      "    Languages:\n",
      "    <strong>\n",
      "     English, Hindi, Punjabi, Urdu\n",
      "    </strong>\n",
      "   </div>\n",
      "  </div>\n",
      "  <!--end second column-->\n",
      " </div>\n",
      " <div class=\"agent-list-card-button col-xxs-12 clearfix\">\n",
      "  <a data-agent-abbr=\"BYCA\" data-agent-address=\"Pleasanton, CA\" data-agent-city=\"Pleasanton\" data-agent-email=\"TW8yZmV3UXJSdVRxT1FySElUM3lPdU0zS2VhQnpYRGFxU0FqNnU4WFpwTT0tLXk1MG5lYlUxeGJJcHRNTEJYSG9NbVE9PQ==--e221a0f73e1b41a1401d018d3e646e153c8d2f35\" data-agent-id=\"2049387\" data-agent-mem-id=\"159510788BE\" data-agent-name=\"Gagan Singh\" data-agent-num-type=\"Mobile\" data-agent-number=\"Y1JDb3FFODJJb1poaEhMczlyQ1NaSGtaMUpWM3pqY3FxZGF2dzVZWkxlOD0tLW9OenF5WEFRaXdPc3RySHRlTnF5WkE9PQ==--100d065e71deb3884d30de4c2ddbb964b020d30c\" data-agent-photo=\"https://ap.rdcpix.com/1028087148/02dd2af750889f4adf03bc448bab0321a-e0od-r7_w110.jpg\" data-agent-url=\"https://www.realtor.com/realestateagents/Gagan-Singh_San-Ramon_CA_2049387_112984048\" data-agent-variant=\"far_srp\" data-agent-web-url=\"http://realestatebygagan.com\" data-page-id=\"srp_list\" data-page-type=\"far_srp_list\" data-toggle=\"modal\" id=\"inquiry_cta\">\n",
      "   <button class=\"btn btn-secondary btn-contact-me btn-contact-me-email\" data-contact-container=\"true\">\n",
      "    Email\n",
      "   </button>\n",
      "  </a>\n",
      "  <a class=\"btn btn-secondary btn-contact-me btn-contact-me-phone hidden-lg hidden-md hidden-sm\" data-agent-abbr=\"BYCA\" data-agent-address=\"Pleasanton, CA\" data-agent-city=\"Pleasanton\" data-agent-email=\"RVMrYWJxekRoZG9tOElyc1Ryb3RxWlBmYXI4UDhFODdQZTZBYTkyZlhiZz0tLUF2UTNkNVdpb0xuSmM2NTJSU1dpNWc9PQ==--531b60b3ec2d8fd4fdcdf0dd1b270271976da736\" data-agent-id=\"2049387\" data-agent-mem-id=\"159510788BE\" data-agent-name=\"Gagan Singh\" data-agent-num-type=\"Mobile\" data-agent-number=\"ZnpHRzkvNVhPa2hqK1ZlbFdaZ0tLMi85WTk3eGZsby94TE9Pd1haaWljRT0tLWFMdm1KemFrM0NBZVFZQiszMnBBZnc9PQ==--bf2ee0866cc1d0688dd1771cc7fef038d944153d\" data-agent-photo=\"https://ap.rdcpix.com/1028087148/02dd2af750889f4adf03bc448bab0321a-e0od-r7_w110.jpg\" data-agent-url=\"https://www.realtor.com/realestateagents/Gagan-Singh_San-Ramon_CA_2049387_112984048\" data-agent-variant=\"far_srp\" data-agent-web-url=\"http://realestatebygagan.com\" href=\"tel:(925) 212-3478\" id=\"call_inquiry_cta\">\n",
      "   <span aria-hidden=\"true\" class=\"fa fa-phone icon-space-right\" data-contact-container=\"true\">\n",
      "   </span>\n",
      "   Call Agent\n",
      "  </a>\n",
      "  <!--  \n",
      "          <a id=\"activity_map_cta\" rel=\"nofollow\" href=\"https://www.realtor.com/realestateagents/san-jose_ca?view=map&adv_id=2049387\" class=\"agent-list-card-map-cta btn btn-link hidden-xxs hidden-xs\" data-activity-map=\"true\">\n",
      "            <span class=\"hidden-xxs hidden-xs hidden-md hidden-sm\"> </span> <span class=\"hidden-xxs hidden-xs hidden-md hidden-sm\"> </span>\n",
      "          </a>\n",
      "          <span id=\"activity_map_cta\" class=\"color-gray agent-list-card-map-cta btn-disabled btn hidden-xxs hidden-xs js-activity-link-disabled\" data-activity-map=\"true\">\n",
      "            <span class=\"hidden-xxs hidden-xs hidden-md hidden-sm\">View </span>Local <span class=\"hidden-xxs hidden-xs hidden-md hidden-sm\">Activity </span>Map\n",
      "              <button type=\"button\" class=\"btn btn-link btn-sort btn-popover js-activityinfo-trigger\" title=\"<div class='pull-right popover-sort-close icon-space-right'><i class='fa fa-times'/></div>\" data-toggle=\"popover\" data-html=\"true\" data-content=\"<div class=&quot;popover-info-activity-link&quot;><p></p></div>\" data-placement=\"bottom\" data-container=\"body\" data-template=\"<div class=&quot;popover&quot; role=&quot;tooltip&quot;><div class=&quot;arrow&quot;></div><h3 class=&quot;popover-title popover-close-btn&quot;></h3><div class=&quot;popover-content&quot;></div></div>\" data-trigger=\"click\"><i class=\"fa fa-question-circle icon-space-left\"></i></button>\n",
      "          </span>\n",
      "          <a id=\"activity_map_cta\" rel=\"nofollow\" href=\"https://www.realtor.com/realestateagents/san-jose_ca?view=map&adv_id=2049387\" class=\"agent-list-card-map-cta btn btn-link hidden-xxs hidden-xs\" data-activity-map=\"true\">\n",
      "            <span class=\"hidden-xxs hidden-xs hidden-md hidden-sm\">Ver </span>Mapa <span class=\"hidden-xxs hidden-xs hidden-md hidden-sm\">de Actividad </span>Local\n",
      "          </a>\n",
      "          <span id=\"activity_map_cta\" class=\"color-gray agent-list-card-map-cta btn-disabled btn hidden-xxs hidden-xs js-activity-link-disabled\" data-activity-map=\"true\">\n",
      "            <span class=\"hidden-xxs hidden-xs hidden-md hidden-sm\">Ver </span>Mapa <span class=\"hidden-xxs hidden-xs hidden-md hidden-sm\">de Actividad </span>Local\n",
      "              <button type=\"button\" class=\"btn btn-link btn-sort btn-popover js-activityinfo-trigger\" title=\"<div class='pull-right popover-sort-close icon-space-right'><i class='fa fa-times'/></div>\" data-toggle=\"popover\" data-html=\"true\" data-content=\"<div class=&quot;popover-info-activity-link&quot;><p></p></div>\" data-placement=\"bottom\" data-container=\"body\" data-template=\"<div class=&quot;popover&quot; role=&quot;tooltip&quot;><div class=&quot;arrow&quot;></div><h3 class=&quot;popover-title popover-close-btn&quot;></h3><div class=&quot;popover-content&quot;></div></div>\" data-trigger=\"click\"><i class=\"fa fa-question-circle icon-space-left\"></i></button>\n",
      "          </span>\n",
      "     -->\n",
      " </div>\n",
      " <div class=\"agent-list-card-absolute\">\n",
      "  <div class=\"agent-mls hidden-xs hidden-xxs\">\n",
      "   <img class=\"lazy\" data-original=\"https://ap.rdcpix.com/639603399/4b3a2c6a705b030e2cbf20d3d91eb32ag-c0s.jpg\"/>\n",
      "  </div>\n",
      "  <div class=\"agent-list-card-divider hidden-xs hidden-xxs\">\n",
      "   <div class=\"divider-color\">\n",
      "   </div>\n",
      "  </div>\n",
      " </div>\n",
      "</div>\n",
      "\n"
     ]
    }
   ],
   "source": [
    "print(agents[0].prettify())"
   ]
  },
  {
   "cell_type": "markdown",
   "metadata": {},
   "source": [
    "Extracting firm address from the crawled web page"
   ]
  },
  {
   "cell_type": "code",
   "execution_count": 6,
   "metadata": {},
   "outputs": [],
   "source": [
    "sub_soup = BeautifulSoup(str(agents))"
   ]
  },
  {
   "cell_type": "code",
   "execution_count": 7,
   "metadata": {},
   "outputs": [],
   "source": [
    "address = sub_soup.find_all(\"span\", {\"itemprop\":\"address\"})"
   ]
  },
  {
   "cell_type": "code",
   "execution_count": 8,
   "metadata": {},
   "outputs": [],
   "source": [
    "addresses = []\n",
    "for i in range(0,len(address),2):\n",
    "    sub_soup_address = BeautifulSoup(str(address[i]))\n",
    "\n",
    "    street = sub_soup_address.find(\"meta\",{\"itemprop\":\"streetAddress\"}).get(\"content\")\n",
    "    loc = sub_soup_address.find(\"meta\",{\"itemprop\":\"addressLocality\"}).get(\"content\")\n",
    "    reg = sub_soup_address.find(\"meta\",{\"itemprop\":\"addressRegion\"}).get(\"content\")\n",
    "    pos = sub_soup_address.find(\"meta\",{\"itemprop\":\"postalCode\"}).get(\"content\")\n",
    "\n",
    "    add = street+', '+loc+', '+reg+', '+pos\n",
    "    \n",
    "    addresses.append(add)"
   ]
  },
  {
   "cell_type": "code",
   "execution_count": 9,
   "metadata": {},
   "outputs": [
    {
     "name": "stdout",
     "output_type": "stream",
     "text": [
      "['900 Main St, Pleasanton, CA, 94566', '12029 Saratoga Sunnyvale Rd, Saratoga, CA, 95070', '5580 Almaden Expressway, San Jose, CA, 95118', '1041 41st Avenue, Santa Cruz, CA, 95062', '3340 Walnut Ave Ste 110, Fremont, CA, 94538', '11 Innes Court, San Francisco, CA, 94124', '12029 Saratoga Sunnyvale Rd, Saratoga, CA, 95070', '5898 SILVER CREEK VALLEY RD, SAN JOSE, CA, 95138', '16268 LOS GATOS BLVD, LOS GATOS, , 95032', '19400 STEVENS CREEK BLVD STE 200, CUPERTINO, CA, 95014', '10105 S De Anza Blvd, Cupertino, CA, 95014', '42820 ALBRAE ST, FREMONT, CA, 94538', '1712 Meridian Ave, San Jose, CA, 95125', '750 UNIVERSITY AVE STE 150 , Los Gatos, CA, 95032', ', , , ', ', , , ', '1975 HAMILTON AVE STE 25, SAN JOSE, CA, 95125', '950 Tennant Station, Morgan Hill, CA, 95037', '1712 Meridian Ave, San Jose, CA, 95125', '467 1st Street #200, Los Altos, CA, 94022'] 20\n"
     ]
    }
   ],
   "source": [
    "print(addresses,len(addresses))"
   ]
  },
  {
   "cell_type": "markdown",
   "metadata": {},
   "source": [
    "Extracting agent name from the crawled web page"
   ]
  },
  {
   "cell_type": "code",
   "execution_count": 10,
   "metadata": {
    "colab": {
     "base_uri": "https://localhost:8080/",
     "height": 34
    },
    "colab_type": "code",
    "id": "NNMPAGvDLo2V",
    "outputId": "46030654-359b-4b1b-e2ee-098c6a9e4b26"
   },
   "outputs": [],
   "source": [
    "name = []\n",
    "\n",
    "for i in range(0,len(agents)):\n",
    "    sub_soup_1 = BeautifulSoup(str(agents[i]))\n",
    "    names = sub_soup_1.find(\"div\", {\"class\":\"agent-name\"})\n",
    "    if names != None:\n",
    "        name.append(names.text.strip())\n",
    "    else:\n",
    "        name.append(None)"
   ]
  },
  {
   "cell_type": "markdown",
   "metadata": {},
   "source": [
    "Extracting firm agent works for from the crawled web page"
   ]
  },
  {
   "cell_type": "code",
   "execution_count": 11,
   "metadata": {},
   "outputs": [],
   "source": [
    "group = []\n",
    "\n",
    "for i in range(0,len(agents)):\n",
    "    sub_soup_1 = BeautifulSoup(str(agents[i]))\n",
    "    groups = sub_soup_1.find(\"div\", {\"class\":\"agent-group\"})\n",
    "    if names != None:\n",
    "        group.append(groups.text.strip())\n",
    "    else:\n",
    "        group.append(None)"
   ]
  },
  {
   "cell_type": "markdown",
   "metadata": {},
   "source": [
    "Extracting agent/firm phone number from the crawled web page"
   ]
  },
  {
   "cell_type": "code",
   "execution_count": 12,
   "metadata": {},
   "outputs": [],
   "source": [
    "phone = []\n",
    "\n",
    "for i in range(0,len(agents)):\n",
    "    sub_soup_1 = BeautifulSoup(str(agents[i]))\n",
    "    phones = sub_soup_1.find(\"div\", {\"class\":\"agent-phone\"})\n",
    "    if names != None:\n",
    "        phone.append(phones.text.strip())\n",
    "    else:\n",
    "        phone.append(None)"
   ]
  },
  {
   "cell_type": "markdown",
   "metadata": {},
   "source": [
    "Extracting agent's experience from the crawled web page"
   ]
  },
  {
   "cell_type": "code",
   "execution_count": 13,
   "metadata": {},
   "outputs": [],
   "source": [
    "exp = []\n",
    "\n",
    "for i in range(0,len(agents)):\n",
    "    sub_soup_1 = BeautifulSoup(str(agents[i]))\n",
    "    exps = sub_soup_1.find(\"div\", {\"class\":\"agent-detail-item ellipsis hidden-xs hidden-xxs\"}) \n",
    "    if exps != None :\n",
    "        exps_txt = exps.text.strip()\n",
    "        exp.append(exps_txt.split('\\n        ')[1])\n",
    "    else:\n",
    "        exp.append(None)"
   ]
  },
  {
   "cell_type": "markdown",
   "metadata": {},
   "source": [
    "Storing the extracted data into a dataframe"
   ]
  },
  {
   "cell_type": "code",
   "execution_count": 14,
   "metadata": {},
   "outputs": [
    {
     "data": {
      "text/html": [
       "<div>\n",
       "<style scoped>\n",
       "    .dataframe tbody tr th:only-of-type {\n",
       "        vertical-align: middle;\n",
       "    }\n",
       "\n",
       "    .dataframe tbody tr th {\n",
       "        vertical-align: top;\n",
       "    }\n",
       "\n",
       "    .dataframe thead th {\n",
       "        text-align: right;\n",
       "    }\n",
       "</style>\n",
       "<table border=\"1\" class=\"dataframe\">\n",
       "  <thead>\n",
       "    <tr style=\"text-align: right;\">\n",
       "      <th></th>\n",
       "      <th>Name</th>\n",
       "      <th>Firm</th>\n",
       "      <th>Experience</th>\n",
       "      <th>Phone</th>\n",
       "      <th>Address</th>\n",
       "    </tr>\n",
       "  </thead>\n",
       "  <tbody>\n",
       "    <tr>\n",
       "      <th>0</th>\n",
       "      <td>Gagan Singh</td>\n",
       "      <td>Compass</td>\n",
       "      <td>28 years 11 months</td>\n",
       "      <td>(925) 212-3478</td>\n",
       "      <td>900 Main St, Pleasanton, CA, 94566</td>\n",
       "    </tr>\n",
       "    <tr>\n",
       "      <th>1</th>\n",
       "      <td>Steve McCarrick</td>\n",
       "      <td>Coldwell Banker Residential Brokerage - Saratoga</td>\n",
       "      <td>None</td>\n",
       "      <td>(408) 656-0788</td>\n",
       "      <td>12029 Saratoga Sunnyvale Rd, Saratoga, CA, 95070</td>\n",
       "    </tr>\n",
       "    <tr>\n",
       "      <th>2</th>\n",
       "      <td>Mike D'Ambrosio</td>\n",
       "      <td>Intero Almaden</td>\n",
       "      <td>12 years</td>\n",
       "      <td>(408) 630-0101</td>\n",
       "      <td>5580 Almaden Expressway, San Jose, CA, 95118</td>\n",
       "    </tr>\n",
       "    <tr>\n",
       "      <th>3</th>\n",
       "      <td>Genie Lawless</td>\n",
       "      <td>David Lyng Real Estate</td>\n",
       "      <td>18 years</td>\n",
       "      <td>(831) 464-4447</td>\n",
       "      <td>1041 41st Avenue, Santa Cruz, CA, 95062</td>\n",
       "    </tr>\n",
       "    <tr>\n",
       "      <th>4</th>\n",
       "      <td>Everett Eslinger\\n        \\nTeam</td>\n",
       "      <td>Coldwell Banker Realty - Fremont</td>\n",
       "      <td>48 years</td>\n",
       "      <td>(510) 608-7636</td>\n",
       "      <td>3340 Walnut Ave Ste 110, Fremont, CA, 94538</td>\n",
       "    </tr>\n",
       "    <tr>\n",
       "      <th>5</th>\n",
       "      <td>Bernadette Troncales Weir</td>\n",
       "      <td>Lennar - The San Francisco Shipyard</td>\n",
       "      <td>17 years</td>\n",
       "      <td>(510) 290-2915</td>\n",
       "      <td>11 Innes Court, San Francisco, CA, 94124</td>\n",
       "    </tr>\n",
       "    <tr>\n",
       "      <th>6</th>\n",
       "      <td>Maryam Tabatabaei</td>\n",
       "      <td>Coldwell Banker Residential Brokerage - Saratoga</td>\n",
       "      <td>None</td>\n",
       "      <td>(408) 872-3524</td>\n",
       "      <td>12029 Saratoga Sunnyvale Rd, Saratoga, CA, 95070</td>\n",
       "    </tr>\n",
       "    <tr>\n",
       "      <th>7</th>\n",
       "      <td>William Chea</td>\n",
       "      <td>Intero Real Estate Services</td>\n",
       "      <td>17 years 9 months</td>\n",
       "      <td>(408) 373-4424</td>\n",
       "      <td>5898 SILVER CREEK VALLEY RD, SAN JOSE, CA, 95138</td>\n",
       "    </tr>\n",
       "    <tr>\n",
       "      <th>8</th>\n",
       "      <td>LILA KAZEMI</td>\n",
       "      <td>Compass</td>\n",
       "      <td>21 years</td>\n",
       "      <td>(408) 206-4536</td>\n",
       "      <td>16268 LOS GATOS BLVD, LOS GATOS, , 95032</td>\n",
       "    </tr>\n",
       "    <tr>\n",
       "      <th>9</th>\n",
       "      <td>Prashant Vanka\\n        \\nTeam</td>\n",
       "      <td>Keller Williams Realty - Cupertino</td>\n",
       "      <td>10 years 2 months</td>\n",
       "      <td>(650) 460-1188</td>\n",
       "      <td>19400 STEVENS CREEK BLVD STE 200, CUPERTINO, C...</td>\n",
       "    </tr>\n",
       "    <tr>\n",
       "      <th>10</th>\n",
       "      <td>Brandon Schaeffer</td>\n",
       "      <td>Coldwell Banker Residential Brokerage - Cupertino</td>\n",
       "      <td>None</td>\n",
       "      <td>(408) 252-1133</td>\n",
       "      <td>10105 S De Anza Blvd, Cupertino, CA, 95014</td>\n",
       "    </tr>\n",
       "    <tr>\n",
       "      <th>11</th>\n",
       "      <td>BRENDA AVILLA-KINTZ, ABR, CRS, MRP, SRES, SRS</td>\n",
       "      <td>Realty ONE Group American</td>\n",
       "      <td>12 years 11 months</td>\n",
       "      <td>(408) 828-2020</td>\n",
       "      <td>42820 ALBRAE ST, FREMONT, CA, 94538</td>\n",
       "    </tr>\n",
       "    <tr>\n",
       "      <th>12</th>\n",
       "      <td>Chris Conklin</td>\n",
       "      <td>Coldwell Banker Residential Brokerage - San Jo...</td>\n",
       "      <td>None</td>\n",
       "      <td>(408) 445-5522</td>\n",
       "      <td>1712 Meridian Ave, San Jose, CA, 95125</td>\n",
       "    </tr>\n",
       "    <tr>\n",
       "      <th>13</th>\n",
       "      <td>Emilie Highley</td>\n",
       "      <td>Compass</td>\n",
       "      <td>None</td>\n",
       "      <td>(408) 357-8622</td>\n",
       "      <td>750 UNIVERSITY AVE STE 150 , Los Gatos, CA, 95032</td>\n",
       "    </tr>\n",
       "    <tr>\n",
       "      <th>14</th>\n",
       "      <td>Jill Curry</td>\n",
       "      <td>Hewitt Real Estate</td>\n",
       "      <td>15 years</td>\n",
       "      <td>(408) 223-3220</td>\n",
       "      <td>, , ,</td>\n",
       "    </tr>\n",
       "    <tr>\n",
       "      <th>15</th>\n",
       "      <td>Pat Chadwell</td>\n",
       "      <td></td>\n",
       "      <td>36 years</td>\n",
       "      <td>(408) 927-6565\\n            Ext. 11</td>\n",
       "      <td>, , ,</td>\n",
       "    </tr>\n",
       "    <tr>\n",
       "      <th>16</th>\n",
       "      <td>Matt  Nguyen</td>\n",
       "      <td>Nexthome Lifestyles</td>\n",
       "      <td>None</td>\n",
       "      <td>(408) 816-9698</td>\n",
       "      <td>1975 HAMILTON AVE STE 25, SAN JOSE, CA, 95125</td>\n",
       "    </tr>\n",
       "    <tr>\n",
       "      <th>17</th>\n",
       "      <td>Debbie Adamo</td>\n",
       "      <td>Coldwell Banker Residential Brokerage - Morgan...</td>\n",
       "      <td>None</td>\n",
       "      <td>(408) 779-5000</td>\n",
       "      <td>950 Tennant Station, Morgan Hill, CA, 95037</td>\n",
       "    </tr>\n",
       "    <tr>\n",
       "      <th>18</th>\n",
       "      <td>Melinda Gedryn</td>\n",
       "      <td>Coldwell Banker Residential Brokerage - San Jo...</td>\n",
       "      <td>None</td>\n",
       "      <td>(408) 723-3300</td>\n",
       "      <td>1712 Meridian Ave, San Jose, CA, 95125</td>\n",
       "    </tr>\n",
       "    <tr>\n",
       "      <th>19</th>\n",
       "      <td>Elizabeth Thompson</td>\n",
       "      <td>Sereno Group.</td>\n",
       "      <td>None</td>\n",
       "      <td>(650) 949-8508</td>\n",
       "      <td>467 1st Street #200, Los Altos, CA, 94022</td>\n",
       "    </tr>\n",
       "  </tbody>\n",
       "</table>\n",
       "</div>"
      ],
      "text/plain": [
       "                                             Name  \\\n",
       "0                                     Gagan Singh   \n",
       "1                                 Steve McCarrick   \n",
       "2                                 Mike D'Ambrosio   \n",
       "3                                   Genie Lawless   \n",
       "4                Everett Eslinger\\n        \\nTeam   \n",
       "5                       Bernadette Troncales Weir   \n",
       "6                               Maryam Tabatabaei   \n",
       "7                                    William Chea   \n",
       "8                                     LILA KAZEMI   \n",
       "9                  Prashant Vanka\\n        \\nTeam   \n",
       "10                              Brandon Schaeffer   \n",
       "11  BRENDA AVILLA-KINTZ, ABR, CRS, MRP, SRES, SRS   \n",
       "12                                  Chris Conklin   \n",
       "13                                 Emilie Highley   \n",
       "14                                     Jill Curry   \n",
       "15                                   Pat Chadwell   \n",
       "16                                   Matt  Nguyen   \n",
       "17                                   Debbie Adamo   \n",
       "18                                 Melinda Gedryn   \n",
       "19                             Elizabeth Thompson   \n",
       "\n",
       "                                                 Firm          Experience  \\\n",
       "0                                             Compass  28 years 11 months   \n",
       "1    Coldwell Banker Residential Brokerage - Saratoga                None   \n",
       "2                                      Intero Almaden            12 years   \n",
       "3                              David Lyng Real Estate            18 years   \n",
       "4                    Coldwell Banker Realty - Fremont            48 years   \n",
       "5                 Lennar - The San Francisco Shipyard            17 years   \n",
       "6    Coldwell Banker Residential Brokerage - Saratoga                None   \n",
       "7                         Intero Real Estate Services   17 years 9 months   \n",
       "8                                             Compass            21 years   \n",
       "9                  Keller Williams Realty - Cupertino   10 years 2 months   \n",
       "10  Coldwell Banker Residential Brokerage - Cupertino                None   \n",
       "11                          Realty ONE Group American  12 years 11 months   \n",
       "12  Coldwell Banker Residential Brokerage - San Jo...                None   \n",
       "13                                            Compass                None   \n",
       "14                                 Hewitt Real Estate            15 years   \n",
       "15                                                               36 years   \n",
       "16                                Nexthome Lifestyles                None   \n",
       "17  Coldwell Banker Residential Brokerage - Morgan...                None   \n",
       "18  Coldwell Banker Residential Brokerage - San Jo...                None   \n",
       "19                                      Sereno Group.                None   \n",
       "\n",
       "                                  Phone  \\\n",
       "0                        (925) 212-3478   \n",
       "1                        (408) 656-0788   \n",
       "2                        (408) 630-0101   \n",
       "3                        (831) 464-4447   \n",
       "4                        (510) 608-7636   \n",
       "5                        (510) 290-2915   \n",
       "6                        (408) 872-3524   \n",
       "7                        (408) 373-4424   \n",
       "8                        (408) 206-4536   \n",
       "9                        (650) 460-1188   \n",
       "10                       (408) 252-1133   \n",
       "11                       (408) 828-2020   \n",
       "12                       (408) 445-5522   \n",
       "13                       (408) 357-8622   \n",
       "14                       (408) 223-3220   \n",
       "15  (408) 927-6565\\n            Ext. 11   \n",
       "16                       (408) 816-9698   \n",
       "17                       (408) 779-5000   \n",
       "18                       (408) 723-3300   \n",
       "19                       (650) 949-8508   \n",
       "\n",
       "                                              Address  \n",
       "0                  900 Main St, Pleasanton, CA, 94566  \n",
       "1    12029 Saratoga Sunnyvale Rd, Saratoga, CA, 95070  \n",
       "2        5580 Almaden Expressway, San Jose, CA, 95118  \n",
       "3             1041 41st Avenue, Santa Cruz, CA, 95062  \n",
       "4         3340 Walnut Ave Ste 110, Fremont, CA, 94538  \n",
       "5            11 Innes Court, San Francisco, CA, 94124  \n",
       "6    12029 Saratoga Sunnyvale Rd, Saratoga, CA, 95070  \n",
       "7    5898 SILVER CREEK VALLEY RD, SAN JOSE, CA, 95138  \n",
       "8            16268 LOS GATOS BLVD, LOS GATOS, , 95032  \n",
       "9   19400 STEVENS CREEK BLVD STE 200, CUPERTINO, C...  \n",
       "10         10105 S De Anza Blvd, Cupertino, CA, 95014  \n",
       "11                42820 ALBRAE ST, FREMONT, CA, 94538  \n",
       "12             1712 Meridian Ave, San Jose, CA, 95125  \n",
       "13  750 UNIVERSITY AVE STE 150 , Los Gatos, CA, 95032  \n",
       "14                                             , , ,   \n",
       "15                                             , , ,   \n",
       "16      1975 HAMILTON AVE STE 25, SAN JOSE, CA, 95125  \n",
       "17        950 Tennant Station, Morgan Hill, CA, 95037  \n",
       "18             1712 Meridian Ave, San Jose, CA, 95125  \n",
       "19          467 1st Street #200, Los Altos, CA, 94022  "
      ]
     },
     "execution_count": 14,
     "metadata": {},
     "output_type": "execute_result"
    }
   ],
   "source": [
    "df = pd.DataFrame(list(zip(name,group,exp,phone,addresses)),columns = ['Name','Firm','Experience','Phone','Address'])\n",
    "df"
   ]
  },
  {
   "cell_type": "code",
   "execution_count": null,
   "metadata": {},
   "outputs": [],
   "source": []
  }
 ],
 "metadata": {
  "colab": {
   "name": "cleaning_solution (1).ipynb",
   "provenance": []
  },
  "kernelspec": {
   "display_name": "Python 3",
   "language": "python",
   "name": "python3"
  },
  "language_info": {
   "codemirror_mode": {
    "name": "ipython",
    "version": 3
   },
   "file_extension": ".py",
   "mimetype": "text/x-python",
   "name": "python",
   "nbconvert_exporter": "python",
   "pygments_lexer": "ipython3",
   "version": "3.7.7"
  }
 },
 "nbformat": 4,
 "nbformat_minor": 1
}
